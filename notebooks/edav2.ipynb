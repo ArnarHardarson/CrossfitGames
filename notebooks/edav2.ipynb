{
 "cells": [
  {
   "cell_type": "code",
   "execution_count": 2,
   "metadata": {},
   "outputs": [],
   "source": [
    "import pandas as pd\n",
    "import os\n",
    "import seaborn as sns\n",
    "import matplotlib.pyplot as plt\n",
    "%matplotlib inline"
   ]
  },
  {
   "cell_type": "code",
   "execution_count": 6,
   "metadata": {},
   "outputs": [
    {
     "name": "stdout",
     "output_type": "stream",
     "text": [
      "New working directory /Users/lindalarusdottir/Arnar/Projects/CrossfitGames/data\n"
     ]
    }
   ],
   "source": [
    "# set working directory for the data\n",
    "new_directory = \"../data/\"\n",
    "os.chdir(new_directory)\n",
    "new_directory = os.getcwd()\n",
    "print(f\"New working directory {new_directory}\")"
   ]
  },
  {
   "cell_type": "code",
   "execution_count": 7,
   "metadata": {},
   "outputs": [
    {
     "data": {
      "text/html": [
       "<div>\n",
       "<style scoped>\n",
       "    .dataframe tbody tr th:only-of-type {\n",
       "        vertical-align: middle;\n",
       "    }\n",
       "\n",
       "    .dataframe tbody tr th {\n",
       "        vertical-align: top;\n",
       "    }\n",
       "\n",
       "    .dataframe thead th {\n",
       "        text-align: right;\n",
       "    }\n",
       "</style>\n",
       "<table border=\"1\" class=\"dataframe\">\n",
       "  <thead>\n",
       "    <tr style=\"text-align: right;\">\n",
       "      <th></th>\n",
       "      <th>Unnamed: 0</th>\n",
       "      <th>competitorId</th>\n",
       "      <th>competitorName</th>\n",
       "      <th>firstName</th>\n",
       "      <th>lastName</th>\n",
       "      <th>status</th>\n",
       "      <th>postCompStatus</th>\n",
       "      <th>gender</th>\n",
       "      <th>profilePicS3key</th>\n",
       "      <th>countryOfOriginCode</th>\n",
       "      <th>...</th>\n",
       "      <th>divisionId</th>\n",
       "      <th>affiliateId</th>\n",
       "      <th>affiliateName</th>\n",
       "      <th>age</th>\n",
       "      <th>height</th>\n",
       "      <th>weight</th>\n",
       "      <th>teamCaptain</th>\n",
       "      <th>heightInCm</th>\n",
       "      <th>weightInKg</th>\n",
       "      <th>year</th>\n",
       "    </tr>\n",
       "  </thead>\n",
       "  <tbody>\n",
       "    <tr>\n",
       "      <th>0</th>\n",
       "      <td>0</td>\n",
       "      <td>164070</td>\n",
       "      <td>James Fitzgerald</td>\n",
       "      <td>James</td>\n",
       "      <td>Fitzgerald</td>\n",
       "      <td>ACT</td>\n",
       "      <td>NaN</td>\n",
       "      <td>M</td>\n",
       "      <td>0a1aa-P164070_2-184.jpg</td>\n",
       "      <td>NaN</td>\n",
       "      <td>...</td>\n",
       "      <td>1</td>\n",
       "      <td>NaN</td>\n",
       "      <td>NaN</td>\n",
       "      <td>33</td>\n",
       "      <td>69 in</td>\n",
       "      <td>176 lb</td>\n",
       "      <td>0</td>\n",
       "      <td>175.3</td>\n",
       "      <td>79.8</td>\n",
       "      <td>2007</td>\n",
       "    </tr>\n",
       "    <tr>\n",
       "      <th>1</th>\n",
       "      <td>1</td>\n",
       "      <td>57785</td>\n",
       "      <td>Brett Marshall</td>\n",
       "      <td>Brett</td>\n",
       "      <td>Marshall</td>\n",
       "      <td>ACT</td>\n",
       "      <td>NaN</td>\n",
       "      <td>M</td>\n",
       "      <td>e11d1-P57785_2-184.jpg</td>\n",
       "      <td>NaN</td>\n",
       "      <td>...</td>\n",
       "      <td>1</td>\n",
       "      <td>NaN</td>\n",
       "      <td>NaN</td>\n",
       "      <td>33</td>\n",
       "      <td>168 cm</td>\n",
       "      <td>155 lb</td>\n",
       "      <td>0</td>\n",
       "      <td>168.0</td>\n",
       "      <td>70.3</td>\n",
       "      <td>2007</td>\n",
       "    </tr>\n",
       "    <tr>\n",
       "      <th>2</th>\n",
       "      <td>2</td>\n",
       "      <td>10091</td>\n",
       "      <td>Josh Everett</td>\n",
       "      <td>Josh</td>\n",
       "      <td>Everett</td>\n",
       "      <td>ACT</td>\n",
       "      <td>NaN</td>\n",
       "      <td>M</td>\n",
       "      <td>98160-P10091_2-184.jpg</td>\n",
       "      <td>NaN</td>\n",
       "      <td>...</td>\n",
       "      <td>1</td>\n",
       "      <td>NaN</td>\n",
       "      <td>NaN</td>\n",
       "      <td>32</td>\n",
       "      <td>69 in</td>\n",
       "      <td>185 lb</td>\n",
       "      <td>0</td>\n",
       "      <td>175.3</td>\n",
       "      <td>83.9</td>\n",
       "      <td>2007</td>\n",
       "    </tr>\n",
       "    <tr>\n",
       "      <th>3</th>\n",
       "      <td>3</td>\n",
       "      <td>27065</td>\n",
       "      <td>Chris Spealler</td>\n",
       "      <td>Chris</td>\n",
       "      <td>Spealler</td>\n",
       "      <td>ACT</td>\n",
       "      <td>NaN</td>\n",
       "      <td>M</td>\n",
       "      <td>28faf-P27065_3-184.jpg</td>\n",
       "      <td>NaN</td>\n",
       "      <td>...</td>\n",
       "      <td>1</td>\n",
       "      <td>NaN</td>\n",
       "      <td>NaN</td>\n",
       "      <td>28</td>\n",
       "      <td>65 in</td>\n",
       "      <td>143 lb</td>\n",
       "      <td>0</td>\n",
       "      <td>165.1</td>\n",
       "      <td>64.9</td>\n",
       "      <td>2007</td>\n",
       "    </tr>\n",
       "    <tr>\n",
       "      <th>4</th>\n",
       "      <td>4</td>\n",
       "      <td>7173</td>\n",
       "      <td>Breck Berry</td>\n",
       "      <td>Breck</td>\n",
       "      <td>Berry</td>\n",
       "      <td>ACT</td>\n",
       "      <td>NaN</td>\n",
       "      <td>M</td>\n",
       "      <td>f142a-P7173_6-184.jpg</td>\n",
       "      <td>NaN</td>\n",
       "      <td>...</td>\n",
       "      <td>1</td>\n",
       "      <td>NaN</td>\n",
       "      <td>NaN</td>\n",
       "      <td>31</td>\n",
       "      <td>67 in</td>\n",
       "      <td>170 lb</td>\n",
       "      <td>0</td>\n",
       "      <td>170.2</td>\n",
       "      <td>77.1</td>\n",
       "      <td>2007</td>\n",
       "    </tr>\n",
       "  </tbody>\n",
       "</table>\n",
       "<p>5 rows × 24 columns</p>\n",
       "</div>"
      ],
      "text/plain": [
       "   Unnamed: 0  competitorId    competitorName firstName    lastName status  \\\n",
       "0           0        164070  James Fitzgerald     James  Fitzgerald    ACT   \n",
       "1           1         57785    Brett Marshall     Brett    Marshall    ACT   \n",
       "2           2         10091      Josh Everett      Josh     Everett    ACT   \n",
       "3           3         27065    Chris Spealler     Chris    Spealler    ACT   \n",
       "4           4          7173       Breck Berry     Breck       Berry    ACT   \n",
       "\n",
       "   postCompStatus gender          profilePicS3key countryOfOriginCode  ...  \\\n",
       "0             NaN      M  0a1aa-P164070_2-184.jpg                 NaN  ...   \n",
       "1             NaN      M   e11d1-P57785_2-184.jpg                 NaN  ...   \n",
       "2             NaN      M   98160-P10091_2-184.jpg                 NaN  ...   \n",
       "3             NaN      M   28faf-P27065_3-184.jpg                 NaN  ...   \n",
       "4             NaN      M    f142a-P7173_6-184.jpg                 NaN  ...   \n",
       "\n",
       "  divisionId  affiliateId  affiliateName age  height  weight teamCaptain  \\\n",
       "0          1          NaN            NaN  33   69 in  176 lb           0   \n",
       "1          1          NaN            NaN  33  168 cm  155 lb           0   \n",
       "2          1          NaN            NaN  32   69 in  185 lb           0   \n",
       "3          1          NaN            NaN  28   65 in  143 lb           0   \n",
       "4          1          NaN            NaN  31   67 in  170 lb           0   \n",
       "\n",
       "   heightInCm weightInKg  year  \n",
       "0       175.3       79.8  2007  \n",
       "1       168.0       70.3  2007  \n",
       "2       175.3       83.9  2007  \n",
       "3       165.1       64.9  2007  \n",
       "4       170.2       77.1  2007  \n",
       "\n",
       "[5 rows x 24 columns]"
      ]
     },
     "execution_count": 7,
     "metadata": {},
     "output_type": "execute_result"
    }
   ],
   "source": [
    "competitors = pd.read_csv(\"games_info_competitor_multiple_20241230_104519.csv\")\n",
    "competitors.head(5)"
   ]
  },
  {
   "cell_type": "code",
   "execution_count": 9,
   "metadata": {},
   "outputs": [
    {
     "data": {
      "text/plain": [
       "array([2007, 2008, 2009, 2010, 2011, 2012, 2013, 2014, 2015, 2016, 2017,\n",
       "       2018, 2019, 2020, 2021, 2022, 2023, 2024])"
      ]
     },
     "execution_count": 9,
     "metadata": {},
     "output_type": "execute_result"
    }
   ],
   "source": [
    "# We have currently have competitors from year 2007 to 2024\n",
    "competitors['year'].unique()"
   ]
  },
  {
   "cell_type": "code",
   "execution_count": 10,
   "metadata": {},
   "outputs": [],
   "source": [
    "total_competitors = competitors.groupby('year')['competitorName'].count().reset_index(name='total_competitors')\n"
   ]
  },
  {
   "cell_type": "code",
   "execution_count": 11,
   "metadata": {},
   "outputs": [
    {
     "name": "stderr",
     "output_type": "stream",
     "text": [
      "/var/folders/0k/4mdm0lzx0lsd1b3mfrjzrbph0000gn/T/ipykernel_17491/805124365.py:3: FutureWarning: \n",
      "\n",
      "Passing `palette` without assigning `hue` is deprecated and will be removed in v0.14.0. Assign the `x` variable to `hue` and set `legend=False` for the same effect.\n",
      "\n",
      "  sns.barplot(x='year', y='total_competitors', data=total_competitors, palette='viridis')\n"
     ]
    },
    {
     "data": {
      "image/png": "[encoded data removed]",
      "text/plain": [
       "<Figure size 1000x600 with 1 Axes>"
      ]
     },
     "metadata": {},
     "output_type": "display_data"
    }
   ],
   "source": [
    "# Plot total competitors per year\n",
    "plt.figure(figsize=(10, 6))\n",
    "sns.barplot(x='year', y='total_competitors', data=total_competitors, palette='viridis')\n",
    "plt.title('Total Competitors Per Year')\n",
    "plt.xlabel('Year')\n",
    "plt.ylabel('Number of Competitors')\n",
    "plt.show()"
   ]
  }
 ],
 "metadata": {
  "kernelspec": {
   "display_name": "crossfitgames-env",
   "language": "python",
   "name": "python3"
  },
  "language_info": {
   "codemirror_mode": {
    "name": "ipython",
    "version": 3
   },
   "file_extension": ".py",
   "mimetype": "text/x-python",
   "name": "python",
   "nbconvert_exporter": "python",
   "pygments_lexer": "ipython3",
   "version": "3.13.1"
  },
  "orig_nbformat": 4
 },
 "nbformat": 4,
 "nbformat_minor": 2
}
